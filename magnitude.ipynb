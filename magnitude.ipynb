{
 "cells": [
  {
   "cell_type": "code",
   "execution_count": 1,
   "metadata": {},
   "outputs": [],
   "source": [
    "import cv2\n",
    "import numpy as np"
   ]
  },
  {
   "cell_type": "code",
   "execution_count": 7,
   "metadata": {},
   "outputs": [
    {
     "name": "stdout",
     "output_type": "stream",
     "text": [
      "0 242\n",
      "625.0001 16604097.0\n"
     ]
    },
    {
     "data": {
      "text/plain": [
       "True"
      ]
     },
     "execution_count": 7,
     "metadata": {},
     "output_type": "execute_result"
    }
   ],
   "source": [
    "# read input as grayscale\n",
    "img = cv2.imread('Images/LENNAorijinal.bmp', 0)\n",
    "\n",
    "# get min and max values of img\n",
    "img_min, img_max = np.amin(img, (0,1)), np.amax(img, (0,1))\n",
    "print(img_min,img_max)\n",
    "\n",
    "# convert image to floats and do dft saving as complex output\n",
    "dft = cv2.dft(np.float32(img), flags = cv2.DFT_COMPLEX_OUTPUT)\n",
    "\n",
    "# apply shift of origin from upper left corner to center of image\n",
    "dft_shift = np.fft.fftshift(dft)\n",
    "\n",
    "# extract magnitude and phase images\n",
    "mag, phase = cv2.cartToPolar(dft_shift[:,:,0], dft_shift[:,:,1])\n",
    "\n",
    "# get spectrum\n",
    "spec = np.log(mag) / 20\n",
    "\n",
    "# create mask from spectrum keeping only the brightest spots as the notches\n",
    "mask = cv2.normalize(spec, None, alpha=0, beta=1, norm_type=cv2.NORM_MINMAX)\n",
    "mask = cv2.threshold(mask, 0.65, 1, cv2.THRESH_BINARY)[1]\n",
    "\n",
    "# dilate mask\n",
    "kernel = cv2.getStructuringElement(cv2.MORPH_ELLIPSE, (3,3))\n",
    "mask = cv2.morphologyEx(mask, cv2.MORPH_DILATE, kernel)\n",
    "\n",
    "# cover center DC component by circle of black leaving only a few white spots on black background\n",
    "xcenter = mask.shape[1] // 2\n",
    "ycenter = mask.shape[0] // 2\n",
    "mask = cv2.circle(mask, (xcenter,ycenter), radius=10, color=0, thickness=cv2.FILLED)\n",
    "\n",
    "# apply mask to magnitude such that magnitude is made zero where mask is one, ie at spots\n",
    "mag[mask!=0] = 0\n",
    "\n",
    "# convert new magnitude and old phase into cartesian real and imaginary components\n",
    "real, imag = cv2.polarToCart(mag, phase)\n",
    "\n",
    "# combine cartesian components into one complex image\n",
    "back = cv2.merge([real, imag])\n",
    "\n",
    "# shift origin from center to upper left corner\n",
    "back_ishift = np.fft.ifftshift(back)\n",
    "\n",
    "# do idft saving as complex output\n",
    "img_back = cv2.idft(back_ishift)\n",
    "\n",
    "# combine complex components into original image again\n",
    "img_back = cv2.magnitude(img_back[:,:,0], img_back[:,:,1])\n",
    "\n",
    "# re-normalize to 8-bits in range of original\n",
    "min, max = np.amin(img_back, (0,1)), np.amax(img_back, (0,1))\n",
    "print(min,max)\n",
    "notched = cv2.normalize(img_back, None, alpha=img_min, beta=img_max, norm_type=cv2.NORM_MINMAX, dtype=cv2.CV_8U)\n",
    "\n",
    "cv2.imshow(\"ORIGINAL\", img)\n",
    "cv2.imshow(\"MAG\", mag)\n",
    "cv2.imshow(\"PHASE\", phase)\n",
    "cv2.imshow(\"SPECTRUM\", spec)\n",
    "cv2.imshow(\"MASK\", mask)\n",
    "cv2.imshow(\"NOTCHED\", notched)\n",
    "cv2.waitKey(0)\n",
    "cv2.destroyAllWindows()\n",
    "\n",
    "# write result to disk\n",
    "cv2.imwrite(\"clown_mask.png\", (255*mask).clip(0,255).astype(np.uint8))\n",
    "cv2.imwrite(\"clown_notched.png\", notched)"
   ]
  }
 ],
 "metadata": {
  "interpreter": {
   "hash": "fe5efb8c1e6479133b1e61600ec4576ba07a1b64ba05b4e6c10f339752efc2cd"
  },
  "kernelspec": {
   "display_name": "Python 3.8.10 64-bit",
   "language": "python",
   "name": "python3"
  },
  "language_info": {
   "codemirror_mode": {
    "name": "ipython",
    "version": 3
   },
   "file_extension": ".py",
   "mimetype": "text/x-python",
   "name": "python",
   "nbconvert_exporter": "python",
   "pygments_lexer": "ipython3",
   "version": "3.8.10"
  },
  "orig_nbformat": 4
 },
 "nbformat": 4,
 "nbformat_minor": 2
}
