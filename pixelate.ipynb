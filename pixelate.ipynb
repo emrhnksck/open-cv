{
 "cells": [
  {
   "cell_type": "code",
   "execution_count": 1,
   "metadata": {},
   "outputs": [],
   "source": [
    "import cv2"
   ]
  },
  {
   "cell_type": "code",
   "execution_count": 16,
   "metadata": {},
   "outputs": [
    {
     "data": {
      "text/plain": [
       "-1"
      ]
     },
     "execution_count": 16,
     "metadata": {},
     "output_type": "execute_result"
    }
   ],
   "source": [
    "image = cv2.imread(\"lenna256.jpg\")\n",
    "height,width = image.shape[:2]\n",
    "\n",
    "w5, h5 = (16,16)\n",
    "w, h = (32, 32)\n",
    "w2, h2 = (64,64)\n",
    "w3, h3 = (128,128)\n",
    "w4, h4 = (256,256)\n",
    "# Resize input to \"pixelated\" size\n",
    "temp = cv2.resize(image, (w, h), interpolation=cv2.INTER_LINEAR)\n",
    "temp2 = cv2.resize(image, (w2, h2), interpolation=cv2.INTER_LINEAR)\n",
    "temp3 = cv2.resize(image, (w3, h3), interpolation=cv2.INTER_LINEAR)\n",
    "temp4 = cv2.resize(image, (w4, h4), interpolation=cv2.INTER_LINEAR)\n",
    "temp5 = cv2.resize(image, (w5, h5), interpolation=cv2.INTER_LINEAR)\n",
    "\n",
    "# Initialize output image\n",
    "output = cv2.resize(temp, (width, height), interpolation=cv2.INTER_NEAREST)\n",
    "output2 = cv2.resize(temp2, (width, height), interpolation=cv2.INTER_NEAREST)\n",
    "output3 = cv2.resize(temp3, (width, height), interpolation=cv2.INTER_NEAREST)\n",
    "output4 = cv2.resize(temp4, (width, height), interpolation=cv2.INTER_NEAREST)\n",
    "output5 = cv2.resize(temp5, (width, height), interpolation=cv2.INTER_NEAREST)\n",
    "\n",
    "cv2.imshow('Input', image)\n",
    "cv2.imshow('Output', output)\n",
    "cv2.imshow('Output2', output2)\n",
    "cv2.imshow('Output3', output3)\n",
    "cv2.imshow('Output4', output4)\n",
    "cv2.imshow('Output5', output5)\n",
    "\n",
    "cv2.waitKey(0)"
   ]
  }
 ],
 "metadata": {
  "interpreter": {
   "hash": "fe5efb8c1e6479133b1e61600ec4576ba07a1b64ba05b4e6c10f339752efc2cd"
  },
  "kernelspec": {
   "display_name": "Python 3.8.10 64-bit",
   "language": "python",
   "name": "python3"
  },
  "language_info": {
   "codemirror_mode": {
    "name": "ipython",
    "version": 3
   },
   "file_extension": ".py",
   "mimetype": "text/x-python",
   "name": "python",
   "nbconvert_exporter": "python",
   "pygments_lexer": "ipython3",
   "version": "3.8.10"
  },
  "orig_nbformat": 4
 },
 "nbformat": 4,
 "nbformat_minor": 2
}
