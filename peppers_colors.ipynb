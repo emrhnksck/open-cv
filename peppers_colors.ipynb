{
 "cells": [
  {
   "cell_type": "code",
   "execution_count": 1,
   "metadata": {},
   "outputs": [],
   "source": [
    "import cv2\n",
    "import numpy as np"
   ]
  },
  {
   "cell_type": "code",
   "execution_count": 7,
   "metadata": {},
   "outputs": [],
   "source": [
    "peppers = cv2.imread(\"peppers.png\")\n",
    "\n",
    "blue = peppers.copy()\n",
    "#yeşil ve kırmızı kanalları sıfırlıyoruz\n",
    "blue[:, :, 1] = 0\n",
    "blue[:, :, 2] = 0\n",
    "\n",
    "\n",
    "green = peppers.copy()\n",
    "#mavi ve kırmızı kanalları sıfırlıyoruz\n",
    "green[:, :, 0] = 0\n",
    "green[:, :, 2] = 0\n",
    "\n",
    "red = peppers.copy()\n",
    "#mavi ve yeşil kanalları sıfırlıyoruz\n",
    "red[:, :, 0] = 0\n",
    "red[:, :, 1] = 0\n",
    "\n",
    "\n",
    "# RGB - Blue\n",
    "cv2.imshow('B-RGB', blue)\n",
    "\n",
    "# RGB - Green\n",
    "cv2.imshow('G-RGB', green)\n",
    "\n",
    "# RGB - Red\n",
    "cv2.imshow('R-RGB', red)\n",
    "\n",
    "(b_channel, g_channel, r_channel) = cv2.split(peppers)\n",
    "\n",
    "\n",
    "cv2.imshow('blue channel',b_channel) \n",
    "\n",
    "cv2.imshow('green channel',g_channel) \n",
    "\n",
    "cv2.imshow('red channel',r_channel) \n",
    "\n",
    "#GRB yapay renklendirme\n",
    "grb = cv2.merge((g_channel,r_channel,b_channel))\n",
    "cv2.imshow(\"GRB\",grb)\n",
    "\n",
    "#RGB yapar renklendirme\n",
    "rbg = cv2.merge((r_channel,g_channel,b_channel))\n",
    "cv2.imshow(\"RGB\",rbg)\n",
    "\n",
    "#GBR yapay renklendirme\n",
    "gbr = cv2.merge((g_channel,b_channel,r_channel))\n",
    "cv2.imshow(\"GBR\",gbr)\n",
    "\n",
    "cv2.waitKey(0)\n",
    "cv2.destroyAllWindows()"
   ]
  }
 ],
 "metadata": {
  "interpreter": {
   "hash": "fe5efb8c1e6479133b1e61600ec4576ba07a1b64ba05b4e6c10f339752efc2cd"
  },
  "kernelspec": {
   "display_name": "Python 3.8.10 64-bit",
   "language": "python",
   "name": "python3"
  },
  "language_info": {
   "codemirror_mode": {
    "name": "ipython",
    "version": 3
   },
   "file_extension": ".py",
   "mimetype": "text/x-python",
   "name": "python",
   "nbconvert_exporter": "python",
   "pygments_lexer": "ipython3",
   "version": "3.8.10"
  },
  "orig_nbformat": 4
 },
 "nbformat": 4,
 "nbformat_minor": 2
}
